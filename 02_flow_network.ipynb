{
 "cells": [
  {
   "cell_type": "markdown",
   "metadata": {},
   "source": [
    "# Flow Network\n",
    "\n",
    "In this notebook we build a network of flows between places, i.e., the number of _trips_ between two areas.\n",
    "\n",
    "## Preamble"
   ]
  },
  {
   "cell_type": "code",
   "execution_count": 1,
   "metadata": {},
   "outputs": [],
   "source": [
    "import seaborn as sns\n",
    "import matplotlib.pyplot as plt\n",
    "%matplotlib inline\n",
    "sns.set(context='notebook', font='Fira Sans', style='white', palette='plasma')"
   ]
  },
  {
   "cell_type": "code",
   "execution_count": 2,
   "metadata": {},
   "outputs": [],
   "source": [
    "import pandas as pd\n",
    "import geopandas as gpd"
   ]
  },
  {
   "cell_type": "code",
   "execution_count": 3,
   "metadata": {},
   "outputs": [
    {
     "data": {
      "text/html": [
       "<div>\n",
       "<style scoped>\n",
       "    .dataframe tbody tr th:only-of-type {\n",
       "        vertical-align: middle;\n",
       "    }\n",
       "\n",
       "    .dataframe tbody tr th {\n",
       "        vertical-align: top;\n",
       "    }\n",
       "\n",
       "    .dataframe thead th {\n",
       "        text-align: right;\n",
       "    }\n",
       "</style>\n",
       "<table border=\"1\" class=\"dataframe\">\n",
       "  <thead>\n",
       "    <tr style=\"text-align: right;\">\n",
       "      <th></th>\n",
       "      <th>Unnamed: 0</th>\n",
       "      <th>user_id</th>\n",
       "      <th>venue_id</th>\n",
       "      <th>datetime</th>\n",
       "      <th>utc_offset</th>\n",
       "    </tr>\n",
       "  </thead>\n",
       "  <tbody>\n",
       "    <tr>\n",
       "      <th>0</th>\n",
       "      <td>130</td>\n",
       "      <td>1597907</td>\n",
       "      <td>4d9b7366b2aaa093259f7082</td>\n",
       "      <td>Tue Apr 03 18:00:43 +0000 2012</td>\n",
       "      <td>120</td>\n",
       "    </tr>\n",
       "    <tr>\n",
       "      <th>1</th>\n",
       "      <td>278</td>\n",
       "      <td>106998</td>\n",
       "      <td>4adcda60f964a520934421e3</td>\n",
       "      <td>Tue Apr 03 18:01:23 +0000 2012</td>\n",
       "      <td>120</td>\n",
       "    </tr>\n",
       "    <tr>\n",
       "      <th>2</th>\n",
       "      <td>377</td>\n",
       "      <td>1101077</td>\n",
       "      <td>4bac7462f964a520d4f53ae3</td>\n",
       "      <td>Tue Apr 03 18:01:47 +0000 2012</td>\n",
       "      <td>120</td>\n",
       "    </tr>\n",
       "    <tr>\n",
       "      <th>3</th>\n",
       "      <td>382</td>\n",
       "      <td>1218854</td>\n",
       "      <td>4adcda60f964a520934421e3</td>\n",
       "      <td>Tue Apr 03 18:01:49 +0000 2012</td>\n",
       "      <td>120</td>\n",
       "    </tr>\n",
       "    <tr>\n",
       "      <th>4</th>\n",
       "      <td>433</td>\n",
       "      <td>1648478</td>\n",
       "      <td>4dfc7683227185f38b94d41d</td>\n",
       "      <td>Tue Apr 03 18:02:02 +0000 2012</td>\n",
       "      <td>120</td>\n",
       "    </tr>\n",
       "  </tbody>\n",
       "</table>\n",
       "</div>"
      ],
      "text/plain": [
       "   Unnamed: 0  user_id                  venue_id  \\\n",
       "0         130  1597907  4d9b7366b2aaa093259f7082   \n",
       "1         278   106998  4adcda60f964a520934421e3   \n",
       "2         377  1101077  4bac7462f964a520d4f53ae3   \n",
       "3         382  1218854  4adcda60f964a520934421e3   \n",
       "4         433  1648478  4dfc7683227185f38b94d41d   \n",
       "\n",
       "                         datetime  utc_offset  \n",
       "0  Tue Apr 03 18:00:43 +0000 2012         120  \n",
       "1  Tue Apr 03 18:01:23 +0000 2012         120  \n",
       "2  Tue Apr 03 18:01:47 +0000 2012         120  \n",
       "3  Tue Apr 03 18:01:49 +0000 2012         120  \n",
       "4  Tue Apr 03 18:02:02 +0000 2012         120  "
      ]
     },
     "execution_count": 3,
     "metadata": {},
     "output_type": "execute_result"
    }
   ],
   "source": [
    "checkins = pd.read_csv('output/relevant_check_ins.csv.gz')\n",
    "checkins.head()"
   ]
  },
  {
   "cell_type": "code",
   "execution_count": 4,
   "metadata": {},
   "outputs": [
    {
     "data": {
      "text/html": [
       "<div>\n",
       "<style scoped>\n",
       "    .dataframe tbody tr th:only-of-type {\n",
       "        vertical-align: middle;\n",
       "    }\n",
       "\n",
       "    .dataframe tbody tr th {\n",
       "        vertical-align: top;\n",
       "    }\n",
       "\n",
       "    .dataframe thead th {\n",
       "        text-align: right;\n",
       "    }\n",
       "</style>\n",
       "<table border=\"1\" class=\"dataframe\">\n",
       "  <thead>\n",
       "    <tr style=\"text-align: right;\">\n",
       "      <th></th>\n",
       "      <th>venue_id</th>\n",
       "      <th>category</th>\n",
       "      <th>index_right</th>\n",
       "      <th>geometry</th>\n",
       "    </tr>\n",
       "  </thead>\n",
       "  <tbody>\n",
       "    <tr>\n",
       "      <th>0</th>\n",
       "      <td>4ad0e340f964a520c7da20e3</td>\n",
       "      <td>Southern / Soul Food Restaurant</td>\n",
       "      <td>2192</td>\n",
       "      <td>POINT (2.15161 41.39223)</td>\n",
       "    </tr>\n",
       "    <tr>\n",
       "      <th>1</th>\n",
       "      <td>4adcda4bf964a520873f21e3</td>\n",
       "      <td>Hotel</td>\n",
       "      <td>2192</td>\n",
       "      <td>POINT (2.15006 41.39436)</td>\n",
       "    </tr>\n",
       "    <tr>\n",
       "      <th>2</th>\n",
       "      <td>4adcda4cf964a520903f21e3</td>\n",
       "      <td>Hotel</td>\n",
       "      <td>2192</td>\n",
       "      <td>POINT (2.15351 41.39404)</td>\n",
       "    </tr>\n",
       "    <tr>\n",
       "      <th>3</th>\n",
       "      <td>4adcda4df964a520084021e3</td>\n",
       "      <td>Cocktail Bar</td>\n",
       "      <td>2192</td>\n",
       "      <td>POINT (2.15427 41.39277)</td>\n",
       "    </tr>\n",
       "    <tr>\n",
       "      <th>4</th>\n",
       "      <td>4adcda4df964a520164021e3</td>\n",
       "      <td>Beer Garden</td>\n",
       "      <td>2192</td>\n",
       "      <td>POINT (2.15316 41.39503)</td>\n",
       "    </tr>\n",
       "  </tbody>\n",
       "</table>\n",
       "</div>"
      ],
      "text/plain": [
       "                   venue_id                         category  index_right  \\\n",
       "0  4ad0e340f964a520c7da20e3  Southern / Soul Food Restaurant         2192   \n",
       "1  4adcda4bf964a520873f21e3                            Hotel         2192   \n",
       "2  4adcda4cf964a520903f21e3                            Hotel         2192   \n",
       "3  4adcda4df964a520084021e3                     Cocktail Bar         2192   \n",
       "4  4adcda4df964a520164021e3                      Beer Garden         2192   \n",
       "\n",
       "                   geometry  \n",
       "0  POINT (2.15161 41.39223)  \n",
       "1  POINT (2.15006 41.39436)  \n",
       "2  POINT (2.15351 41.39404)  \n",
       "3  POINT (2.15427 41.39277)  \n",
       "4  POINT (2.15316 41.39503)  "
      ]
     },
     "execution_count": 4,
     "metadata": {},
     "output_type": "execute_result"
    }
   ],
   "source": [
    "venues = gpd.read_file('output/relevant_pois.json')\n",
    "venues.head()"
   ]
  },
  {
   "cell_type": "markdown",
   "metadata": {},
   "source": [
    "## Flow Estimation\n",
    "\n",
    "Check-ins are stored as one row per check-in in the dataframe. However, we need to consider _pairs_ of check-ins by the same user to be able to see a trip.\n",
    "\n",
    "First, we sort the check-ins dataframe by `user_id`, as that ensures that two consecutive check-ins were done by the same user (with the exception of the last check-in of every user, but we deal with that later)."
   ]
  },
  {
   "cell_type": "code",
   "execution_count": 5,
   "metadata": {},
   "outputs": [
    {
     "data": {
      "text/html": [
       "<div>\n",
       "<style scoped>\n",
       "    .dataframe tbody tr th:only-of-type {\n",
       "        vertical-align: middle;\n",
       "    }\n",
       "\n",
       "    .dataframe tbody tr th {\n",
       "        vertical-align: top;\n",
       "    }\n",
       "\n",
       "    .dataframe thead th {\n",
       "        text-align: right;\n",
       "    }\n",
       "</style>\n",
       "<table border=\"1\" class=\"dataframe\">\n",
       "  <thead>\n",
       "    <tr style=\"text-align: right;\">\n",
       "      <th></th>\n",
       "      <th>Unnamed: 0</th>\n",
       "      <th>user_id</th>\n",
       "      <th>venue_id</th>\n",
       "      <th>datetime</th>\n",
       "      <th>index_right</th>\n",
       "    </tr>\n",
       "  </thead>\n",
       "  <tbody>\n",
       "    <tr>\n",
       "      <th>169950</th>\n",
       "      <td>863379</td>\n",
       "      <td>11</td>\n",
       "      <td>4bf24abb99d02d7feb0eca48</td>\n",
       "      <td>Wed Feb 27 19:04:51 +0000 2013</td>\n",
       "      <td>2177</td>\n",
       "    </tr>\n",
       "    <tr>\n",
       "      <th>169975</th>\n",
       "      <td>879777</td>\n",
       "      <td>19</td>\n",
       "      <td>512bb246e4b0447bba28bce6</td>\n",
       "      <td>Wed Feb 27 20:49:55 +0000 2013</td>\n",
       "      <td>2257</td>\n",
       "    </tr>\n",
       "    <tr>\n",
       "      <th>80184</th>\n",
       "      <td>68775</td>\n",
       "      <td>19</td>\n",
       "      <td>4adcda60f964a520994421e3</td>\n",
       "      <td>Thu Feb 28 09:49:55 +0000 2013</td>\n",
       "      <td>2176</td>\n",
       "    </tr>\n",
       "    <tr>\n",
       "      <th>14208</th>\n",
       "      <td>87234</td>\n",
       "      <td>19</td>\n",
       "      <td>4b7980a2f964a5202bfd2ee3</td>\n",
       "      <td>Thu Feb 28 10:45:55 +0000 2013</td>\n",
       "      <td>2910</td>\n",
       "    </tr>\n",
       "    <tr>\n",
       "      <th>124812</th>\n",
       "      <td>416624</td>\n",
       "      <td>19</td>\n",
       "      <td>4bcc52eb3740b713efc46365</td>\n",
       "      <td>Mon Feb 25 08:10:09 +0000 2013</td>\n",
       "      <td>2699</td>\n",
       "    </tr>\n",
       "  </tbody>\n",
       "</table>\n",
       "</div>"
      ],
      "text/plain": [
       "        Unnamed: 0  user_id                  venue_id  \\\n",
       "169950      863379       11  4bf24abb99d02d7feb0eca48   \n",
       "169975      879777       19  512bb246e4b0447bba28bce6   \n",
       "80184        68775       19  4adcda60f964a520994421e3   \n",
       "14208        87234       19  4b7980a2f964a5202bfd2ee3   \n",
       "124812      416624       19  4bcc52eb3740b713efc46365   \n",
       "\n",
       "                              datetime  index_right  \n",
       "169950  Wed Feb 27 19:04:51 +0000 2013         2177  \n",
       "169975  Wed Feb 27 20:49:55 +0000 2013         2257  \n",
       "80184   Thu Feb 28 09:49:55 +0000 2013         2176  \n",
       "14208   Thu Feb 28 10:45:55 +0000 2013         2910  \n",
       "124812  Mon Feb 25 08:10:09 +0000 2013         2699  "
      ]
     },
     "execution_count": 5,
     "metadata": {},
     "output_type": "execute_result"
    }
   ],
   "source": [
    "checkins_grid = checkins.merge(venues[['venue_id', 'index_right']]).sort_values('user_id').drop('utc_offset', axis=1)\n",
    "checkins_grid.head()"
   ]
  },
  {
   "cell_type": "markdown",
   "metadata": {},
   "source": [
    "Then, we define an utilitary function `shift` that takes a dataframe as input, and then builds a new dataframe where two consecutive rows of the original dataframe are put together, as if they were from a trip.\n",
    "\n",
    "Since we have a dataframe sorted by `user_id`, most of the shifted rows belong to only one user. Those that do not are not real trips, and we filter them out of the dataframe."
   ]
  },
  {
   "cell_type": "code",
   "execution_count": 6,
   "metadata": {},
   "outputs": [],
   "source": [
    "def shift(df):\n",
    "    origin = df.rename({'venue_id': 'origin'}, axis=1)[['origin', 'user_id']]\n",
    "    destination = df.rename({'venue_id': 'destination', 'user_id': 'user_id_d'}, axis=1)[['destination', 'user_id_d']].shift()\n",
    "    trips = (origin.join(destination)\n",
    "             .dropna()\n",
    "             .pipe(lambda x: x[x.user_id == x.user_id_d])\n",
    "             .groupby(['user_id', 'origin', 'destination'])\n",
    "             .size()\n",
    "            )\n",
    "    trips.name = 'n_trips'\n",
    "    return trips\n",
    "\n",
    "#shift(checkins_grid.head(100))"
   ]
  },
  {
   "cell_type": "code",
   "execution_count": 7,
   "metadata": {},
   "outputs": [
    {
     "data": {
      "text/html": [
       "<div>\n",
       "<style scoped>\n",
       "    .dataframe tbody tr th:only-of-type {\n",
       "        vertical-align: middle;\n",
       "    }\n",
       "\n",
       "    .dataframe tbody tr th {\n",
       "        vertical-align: top;\n",
       "    }\n",
       "\n",
       "    .dataframe thead th {\n",
       "        text-align: right;\n",
       "    }\n",
       "</style>\n",
       "<table border=\"1\" class=\"dataframe\">\n",
       "  <thead>\n",
       "    <tr style=\"text-align: right;\">\n",
       "      <th></th>\n",
       "      <th>user_id</th>\n",
       "      <th>origin</th>\n",
       "      <th>destination</th>\n",
       "      <th>n_trips</th>\n",
       "    </tr>\n",
       "  </thead>\n",
       "  <tbody>\n",
       "    <tr>\n",
       "      <th>0</th>\n",
       "      <td>19</td>\n",
       "      <td>4adcda60f964a520994421e3</td>\n",
       "      <td>512bb246e4b0447bba28bce6</td>\n",
       "      <td>1</td>\n",
       "    </tr>\n",
       "    <tr>\n",
       "      <th>1</th>\n",
       "      <td>19</td>\n",
       "      <td>4b241c53f964a5204e6124e3</td>\n",
       "      <td>4b76f383f964a520ce6d2ee3</td>\n",
       "      <td>1</td>\n",
       "    </tr>\n",
       "    <tr>\n",
       "      <th>2</th>\n",
       "      <td>19</td>\n",
       "      <td>4b76f383f964a520ce6d2ee3</td>\n",
       "      <td>4bcc52eb3740b713efc46365</td>\n",
       "      <td>1</td>\n",
       "    </tr>\n",
       "    <tr>\n",
       "      <th>3</th>\n",
       "      <td>19</td>\n",
       "      <td>4b7980a2f964a5202bfd2ee3</td>\n",
       "      <td>4adcda60f964a520994421e3</td>\n",
       "      <td>1</td>\n",
       "    </tr>\n",
       "    <tr>\n",
       "      <th>4</th>\n",
       "      <td>19</td>\n",
       "      <td>4bcc52eb3740b713efc46365</td>\n",
       "      <td>4b7980a2f964a5202bfd2ee3</td>\n",
       "      <td>1</td>\n",
       "    </tr>\n",
       "  </tbody>\n",
       "</table>\n",
       "</div>"
      ],
      "text/plain": [
       "   user_id                    origin               destination  n_trips\n",
       "0       19  4adcda60f964a520994421e3  512bb246e4b0447bba28bce6        1\n",
       "1       19  4b241c53f964a5204e6124e3  4b76f383f964a520ce6d2ee3        1\n",
       "2       19  4b76f383f964a520ce6d2ee3  4bcc52eb3740b713efc46365        1\n",
       "3       19  4b7980a2f964a5202bfd2ee3  4adcda60f964a520994421e3        1\n",
       "4       19  4bcc52eb3740b713efc46365  4b7980a2f964a5202bfd2ee3        1"
      ]
     },
     "execution_count": 7,
     "metadata": {},
     "output_type": "execute_result"
    }
   ],
   "source": [
    "user_trip_counts = shift(checkins_grid).reset_index()\n",
    "user_trip_counts.head()"
   ]
  },
  {
   "cell_type": "code",
   "execution_count": 8,
   "metadata": {},
   "outputs": [
    {
     "data": {
      "text/plain": [
       "(129855, 4)"
      ]
     },
     "execution_count": 8,
     "metadata": {},
     "output_type": "execute_result"
    }
   ],
   "source": [
    "user_trip_counts.shape"
   ]
  },
  {
   "cell_type": "markdown",
   "metadata": {},
   "source": [
    "Then, we proceed to assign an origin / destination _cell id_ to each trip."
   ]
  },
  {
   "cell_type": "code",
   "execution_count": 9,
   "metadata": {},
   "outputs": [
    {
     "data": {
      "text/html": [
       "<div>\n",
       "<style scoped>\n",
       "    .dataframe tbody tr th:only-of-type {\n",
       "        vertical-align: middle;\n",
       "    }\n",
       "\n",
       "    .dataframe tbody tr th {\n",
       "        vertical-align: top;\n",
       "    }\n",
       "\n",
       "    .dataframe thead th {\n",
       "        text-align: right;\n",
       "    }\n",
       "</style>\n",
       "<table border=\"1\" class=\"dataframe\">\n",
       "  <thead>\n",
       "    <tr style=\"text-align: right;\">\n",
       "      <th></th>\n",
       "      <th>user_id</th>\n",
       "      <th>origin</th>\n",
       "      <th>destination</th>\n",
       "      <th>n_trips</th>\n",
       "      <th>origin_cell_id</th>\n",
       "      <th>destination_cell_id</th>\n",
       "    </tr>\n",
       "  </thead>\n",
       "  <tbody>\n",
       "    <tr>\n",
       "      <th>0</th>\n",
       "      <td>19</td>\n",
       "      <td>4adcda60f964a520994421e3</td>\n",
       "      <td>512bb246e4b0447bba28bce6</td>\n",
       "      <td>1</td>\n",
       "      <td>2176</td>\n",
       "      <td>2257</td>\n",
       "    </tr>\n",
       "    <tr>\n",
       "      <th>1</th>\n",
       "      <td>19</td>\n",
       "      <td>4b241c53f964a5204e6124e3</td>\n",
       "      <td>4b76f383f964a520ce6d2ee3</td>\n",
       "      <td>1</td>\n",
       "      <td>2236</td>\n",
       "      <td>2236</td>\n",
       "    </tr>\n",
       "    <tr>\n",
       "      <th>2</th>\n",
       "      <td>19</td>\n",
       "      <td>4b76f383f964a520ce6d2ee3</td>\n",
       "      <td>4bcc52eb3740b713efc46365</td>\n",
       "      <td>1</td>\n",
       "      <td>2236</td>\n",
       "      <td>2699</td>\n",
       "    </tr>\n",
       "    <tr>\n",
       "      <th>3</th>\n",
       "      <td>19</td>\n",
       "      <td>4b7980a2f964a5202bfd2ee3</td>\n",
       "      <td>4adcda60f964a520994421e3</td>\n",
       "      <td>1</td>\n",
       "      <td>2910</td>\n",
       "      <td>2176</td>\n",
       "    </tr>\n",
       "    <tr>\n",
       "      <th>4</th>\n",
       "      <td>19</td>\n",
       "      <td>4bcc52eb3740b713efc46365</td>\n",
       "      <td>4b7980a2f964a5202bfd2ee3</td>\n",
       "      <td>1</td>\n",
       "      <td>2699</td>\n",
       "      <td>2910</td>\n",
       "    </tr>\n",
       "  </tbody>\n",
       "</table>\n",
       "</div>"
      ],
      "text/plain": [
       "   user_id                    origin               destination  n_trips  \\\n",
       "0       19  4adcda60f964a520994421e3  512bb246e4b0447bba28bce6        1   \n",
       "1       19  4b241c53f964a5204e6124e3  4b76f383f964a520ce6d2ee3        1   \n",
       "2       19  4b76f383f964a520ce6d2ee3  4bcc52eb3740b713efc46365        1   \n",
       "3       19  4b7980a2f964a5202bfd2ee3  4adcda60f964a520994421e3        1   \n",
       "4       19  4bcc52eb3740b713efc46365  4b7980a2f964a5202bfd2ee3        1   \n",
       "\n",
       "   origin_cell_id  destination_cell_id  \n",
       "0            2176                 2257  \n",
       "1            2236                 2236  \n",
       "2            2236                 2699  \n",
       "3            2910                 2176  \n",
       "4            2699                 2910  "
      ]
     },
     "execution_count": 9,
     "metadata": {},
     "output_type": "execute_result"
    }
   ],
   "source": [
    "user_trips_grid = (user_trip_counts\n",
    ".join(venues[['venue_id', 'index_right']].set_index('venue_id'), on='origin')\n",
    ".rename({'index_right': 'origin_cell_id'}, axis=1)\n",
    ".join(venues[['venue_id', 'index_right']].set_index('venue_id'), on='destination')\n",
    ".rename({'index_right': 'destination_cell_id'}, axis=1))\n",
    "user_trips_grid.head()"
   ]
  },
  {
   "cell_type": "markdown",
   "metadata": {},
   "source": [
    "Finally, we can compute the flow of people between two cells by aggregating the trips dataframe:"
   ]
  },
  {
   "cell_type": "code",
   "execution_count": 10,
   "metadata": {},
   "outputs": [
    {
     "data": {
      "text/html": [
       "<div>\n",
       "<style scoped>\n",
       "    .dataframe tbody tr th:only-of-type {\n",
       "        vertical-align: middle;\n",
       "    }\n",
       "\n",
       "    .dataframe tbody tr th {\n",
       "        vertical-align: top;\n",
       "    }\n",
       "\n",
       "    .dataframe thead th {\n",
       "        text-align: right;\n",
       "    }\n",
       "</style>\n",
       "<table border=\"1\" class=\"dataframe\">\n",
       "  <thead>\n",
       "    <tr style=\"text-align: right;\">\n",
       "      <th></th>\n",
       "      <th>origin</th>\n",
       "      <th>dest</th>\n",
       "      <th>count</th>\n",
       "    </tr>\n",
       "  </thead>\n",
       "  <tbody>\n",
       "    <tr>\n",
       "      <th>379</th>\n",
       "      <td>42</td>\n",
       "      <td>509</td>\n",
       "      <td>6</td>\n",
       "    </tr>\n",
       "    <tr>\n",
       "      <th>528</th>\n",
       "      <td>45</td>\n",
       "      <td>2236</td>\n",
       "      <td>6</td>\n",
       "    </tr>\n",
       "    <tr>\n",
       "      <th>798</th>\n",
       "      <td>68</td>\n",
       "      <td>476</td>\n",
       "      <td>10</td>\n",
       "    </tr>\n",
       "    <tr>\n",
       "      <th>819</th>\n",
       "      <td>70</td>\n",
       "      <td>487</td>\n",
       "      <td>22</td>\n",
       "    </tr>\n",
       "    <tr>\n",
       "      <th>832</th>\n",
       "      <td>70</td>\n",
       "      <td>2177</td>\n",
       "      <td>6</td>\n",
       "    </tr>\n",
       "  </tbody>\n",
       "</table>\n",
       "</div>"
      ],
      "text/plain": [
       "     origin  dest  count\n",
       "379      42   509      6\n",
       "528      45  2236      6\n",
       "798      68   476     10\n",
       "819      70   487     22\n",
       "832      70  2177      6"
      ]
     },
     "execution_count": 10,
     "metadata": {},
     "output_type": "execute_result"
    }
   ],
   "source": [
    "flows = (user_trips_grid\n",
    "         [user_trips_grid.origin_cell_id != user_trips_grid.destination_cell_id]\n",
    "         .groupby(['origin_cell_id', 'destination_cell_id'])\n",
    "         ['n_trips']\n",
    "         .sum()\n",
    "         .reset_index()\n",
    "         .pipe(lambda x: x[x.n_trips > 5])\n",
    "         .rename({'origin_cell_id': 'origin', 'destination_cell_id': 'dest', 'n_trips': 'count'}, axis=1)\n",
    "        )\n",
    "flows.head()"
   ]
  },
  {
   "cell_type": "code",
   "execution_count": 11,
   "metadata": {},
   "outputs": [
    {
     "data": {
      "text/plain": [
       "count    4753.000000\n",
       "mean       17.483905\n",
       "std        44.596368\n",
       "min         6.000000\n",
       "25%         7.000000\n",
       "50%         9.000000\n",
       "75%        15.000000\n",
       "max      1687.000000\n",
       "Name: count, dtype: float64"
      ]
     },
     "execution_count": 11,
     "metadata": {},
     "output_type": "execute_result"
    }
   ],
   "source": [
    "flows['count'].describe()"
   ]
  },
  {
   "cell_type": "markdown",
   "metadata": {},
   "source": [
    "## Data Export for Visualization\n",
    "\n",
    "We export the data in the format required in the [flowmap.blue](http://flowmap.blue) platform. It requires a flow magnitude file, and a flow location file.\n",
    "\n",
    "The flow magnitude was estimated above."
   ]
  },
  {
   "cell_type": "code",
   "execution_count": 12,
   "metadata": {},
   "outputs": [],
   "source": [
    "flows.to_csv('output/flow_magnitudes.csv', index=False)"
   ]
  },
  {
   "cell_type": "markdown",
   "metadata": {},
   "source": [
    "The flow locations are the centroids of each cell. "
   ]
  },
  {
   "cell_type": "code",
   "execution_count": 13,
   "metadata": {},
   "outputs": [
    {
     "data": {
      "text/html": [
       "<div>\n",
       "<style scoped>\n",
       "    .dataframe tbody tr th:only-of-type {\n",
       "        vertical-align: middle;\n",
       "    }\n",
       "\n",
       "    .dataframe tbody tr th {\n",
       "        vertical-align: top;\n",
       "    }\n",
       "\n",
       "    .dataframe thead th {\n",
       "        text-align: right;\n",
       "    }\n",
       "</style>\n",
       "<table border=\"1\" class=\"dataframe\">\n",
       "  <thead>\n",
       "    <tr style=\"text-align: right;\">\n",
       "      <th></th>\n",
       "      <th>s2_cellid</th>\n",
       "      <th>index_right</th>\n",
       "      <th>geometry</th>\n",
       "    </tr>\n",
       "  </thead>\n",
       "  <tbody>\n",
       "    <tr>\n",
       "      <th>0</th>\n",
       "      <td>1343054926502166528</td>\n",
       "      <td>9</td>\n",
       "      <td>POLYGON ((1.97837 41.25890, 1.98326 41.25882, ...</td>\n",
       "    </tr>\n",
       "    <tr>\n",
       "      <th>1</th>\n",
       "      <td>1343054935092101120</td>\n",
       "      <td>9</td>\n",
       "      <td>POLYGON ((1.97347 41.25899, 1.97837 41.25890, ...</td>\n",
       "    </tr>\n",
       "    <tr>\n",
       "      <th>2</th>\n",
       "      <td>1343054960861904896</td>\n",
       "      <td>9</td>\n",
       "      <td>POLYGON ((1.96858 41.25907, 1.97347 41.25899, ...</td>\n",
       "    </tr>\n",
       "    <tr>\n",
       "      <th>3</th>\n",
       "      <td>1343054969451839488</td>\n",
       "      <td>9</td>\n",
       "      <td>POLYGON ((1.96369 41.25915, 1.96858 41.25907, ...</td>\n",
       "    </tr>\n",
       "    <tr>\n",
       "      <th>4</th>\n",
       "      <td>1343054978041774080</td>\n",
       "      <td>9</td>\n",
       "      <td>POLYGON ((1.95880 41.25923, 1.96369 41.25915, ...</td>\n",
       "    </tr>\n",
       "  </tbody>\n",
       "</table>\n",
       "</div>"
      ],
      "text/plain": [
       "             s2_cellid  index_right  \\\n",
       "0  1343054926502166528            9   \n",
       "1  1343054935092101120            9   \n",
       "2  1343054960861904896            9   \n",
       "3  1343054969451839488            9   \n",
       "4  1343054978041774080            9   \n",
       "\n",
       "                                            geometry  \n",
       "0  POLYGON ((1.97837 41.25890, 1.98326 41.25882, ...  \n",
       "1  POLYGON ((1.97347 41.25899, 1.97837 41.25890, ...  \n",
       "2  POLYGON ((1.96858 41.25907, 1.97347 41.25899, ...  \n",
       "3  POLYGON ((1.96369 41.25915, 1.96858 41.25907, ...  \n",
       "4  POLYGON ((1.95880 41.25923, 1.96369 41.25915, ...  "
      ]
     },
     "execution_count": 13,
     "metadata": {},
     "output_type": "execute_result"
    }
   ],
   "source": [
    "grid = gpd.read_file('output/relevant_grid.geo.json')\n",
    "grid.head()"
   ]
  },
  {
   "cell_type": "markdown",
   "metadata": {},
   "source": [
    "Note that we don't need all cells from the grid, as some of them do not generate or attract trips."
   ]
  },
  {
   "cell_type": "code",
   "execution_count": 14,
   "metadata": {},
   "outputs": [
    {
     "data": {
      "text/plain": [
       "((595, 3), (3846, 3))"
      ]
     },
     "execution_count": 14,
     "metadata": {},
     "output_type": "execute_result"
    }
   ],
   "source": [
    "flow_grid = grid[grid.index.isin(flows.origin) | grid.index.isin(flows.dest)]\n",
    "flow_grid.shape, grid.shape"
   ]
  },
  {
   "cell_type": "code",
   "execution_count": 15,
   "metadata": {},
   "outputs": [],
   "source": [
    "centroids = pd.DataFrame({'x': flow_grid.geometry.centroid.x, 'y': flow_grid.geometry.centroid.y})"
   ]
  },
  {
   "cell_type": "code",
   "execution_count": 16,
   "metadata": {},
   "outputs": [],
   "source": [
    "centroids.index.name = 'id'"
   ]
  },
  {
   "cell_type": "code",
   "execution_count": 17,
   "metadata": {},
   "outputs": [],
   "source": [
    "centroids['name'] = centroids.index.values"
   ]
  },
  {
   "cell_type": "code",
   "execution_count": 18,
   "metadata": {},
   "outputs": [],
   "source": [
    "centroids[['name', 'y', 'x']].rename({'x': 'lon', 'y': 'lat'}, axis=1).to_csv('output/flow_locations.csv')"
   ]
  },
  {
   "cell_type": "markdown",
   "metadata": {},
   "source": [
    "With these files, we can use flowmap.blue. [See here the resulting visualization!](https://flowmap.blue/1VdL8bOI42S_M597lO-uVZG2Hx4ujwudiSrgPFps6oeo)"
   ]
  },
  {
   "cell_type": "markdown",
   "metadata": {},
   "source": [
    "## Next Steps\n",
    "\n",
    "This is just a preliminary exploration of the data. We still need to tackle other challenges, such as:\n",
    "\n",
    "  * Filtering trips according to temporal distance between check-ins.\n",
    "  * Building a mobility model from the data.\n",
    "  * Estimate the model for several cities.\n",
    "  * Visualize grid popularity, and include same-cell trips in the visualization.\n",
    "  * Dissagregate tourist and local trips.\n",
    "  \n",
    "Do you have other interesting question to ask the data? Let's collaborate!"
   ]
  },
  {
   "cell_type": "code",
   "execution_count": null,
   "metadata": {},
   "outputs": [],
   "source": []
  }
 ],
 "metadata": {
  "kernelspec": {
   "display_name": "Python 3",
   "language": "python",
   "name": "python3"
  },
  "language_info": {
   "codemirror_mode": {
    "name": "ipython",
    "version": 3
   },
   "file_extension": ".py",
   "mimetype": "text/x-python",
   "name": "python",
   "nbconvert_exporter": "python",
   "pygments_lexer": "ipython3",
   "version": "3.8.1"
  }
 },
 "nbformat": 4,
 "nbformat_minor": 4
}
